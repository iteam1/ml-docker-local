{
 "cells": [
  {
   "cell_type": "code",
   "execution_count": null,
   "id": "4c0dc60b-a523-44be-a154-2e9f1f32d264",
   "metadata": {},
   "outputs": [
    {
     "name": "stdout",
     "output_type": "stream",
     "text": [
      "Linux-5.4.0-135-generic-x86_64-with-glibc2.35\n",
      "Python 3.10.8 | packaged by conda-forge | (main, Nov 22 2022, 08:26:04) [GCC 10.4.0]\n",
      "NumPy 1.23.5\n",
      "SciPy 1.9.3\n",
      "MODEL_FILE_LDA:  clf_lda.joblib\n",
      "MODEL_FILE_NN:  clf_nn.joblib\n",
      "Shape of the training data\n",
      "(1300, 160)\n",
      "(1300,)\n"
     ]
    }
   ],
   "source": [
    "!python3 train.py"
   ]
  },
  {
   "cell_type": "code",
   "execution_count": null,
   "id": "13540228-35b4-4dc4-a38d-069667ade4b6",
   "metadata": {},
   "outputs": [],
   "source": [
    "!python3 inference.py"
   ]
  }
 ],
 "metadata": {
  "kernelspec": {
   "display_name": "Python 3 (ipykernel)",
   "language": "python",
   "name": "python3"
  },
  "language_info": {
   "codemirror_mode": {
    "name": "ipython",
    "version": 3
   },
   "file_extension": ".py",
   "mimetype": "text/x-python",
   "name": "python",
   "nbconvert_exporter": "python",
   "pygments_lexer": "ipython3",
   "version": "3.10.8"
  }
 },
 "nbformat": 4,
 "nbformat_minor": 5
}
